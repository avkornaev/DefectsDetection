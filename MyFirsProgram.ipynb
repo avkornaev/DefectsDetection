{
  "nbformat": 4,
  "nbformat_minor": 0,
  "metadata": {
    "colab": {
      "name": "Untitled7.ipynb",
      "provenance": [],
      "toc_visible": true,
      "authorship_tag": "ABX9TyPSXlFNyXebk22crj+YhOqm",
      "include_colab_link": true
    },
    "kernelspec": {
      "name": "python3",
      "display_name": "Python 3"
    },
    "language_info": {
      "name": "python"
    }
  },
  "cells": [
    {
      "cell_type": "markdown",
      "metadata": {
        "id": "view-in-github",
        "colab_type": "text"
      },
      "source": [
        "<a href=\"https://colab.research.google.com/github/avkornaev/DefectsDetection/blob/main/MyFirsProgram.ipynb\" target=\"_parent\"><img src=\"https://colab.research.google.com/assets/colab-badge.svg\" alt=\"Open In Colab\"/></a>"
      ]
    },
    {
      "cell_type": "code",
      "metadata": {
        "colab": {
          "base_uri": "https://localhost:8080/"
        },
        "id": "Su1W_Skcp51b",
        "outputId": "5513400c-565b-444e-8af2-90e897ede14b"
      },
      "source": [
        "\"This is my first programm\"\n",
        "# Here goes my first line\n",
        "print(\"Hello World\")\n",
        "c = 7%2\n",
        "print(c)\n",
        "\n"
      ],
      "execution_count": 5,
      "outputs": [
        {
          "output_type": "stream",
          "text": [
            "Hello World\n",
            "1\n"
          ],
          "name": "stdout"
        }
      ]
    }
  ]
}